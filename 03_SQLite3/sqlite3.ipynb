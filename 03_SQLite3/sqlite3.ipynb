{
 "cells": [
  {
   "attachments": {},
   "cell_type": "markdown",
   "metadata": {},
   "source": [
    "# SQLite3\n",
    "## 1. 개요\n",
    "#### 1.1 경량 DBMS\n",
    "- 별도의 서버가 필요 없음\n",
    "- 모바일 기기에서 많이 활용되고 있음\n",
    "- 파이썬3에 기본 내장되어 있음\n",
    "- 파일 또는 메모리에 DB 생성\n",
    "- 참고자료: SQLite로 가볍게 배우는 데이터베이스 (WikiDocs)\n",
    "\n",
    "#### 1.2 데이터 타입\n",
    "- 동적 데이터 타입\n",
    "- Null, Integer, Real, Text, Blob 유형이 있음 (Boolean, Date, Time 없음)\n",
    "- 다른 유형 데이터를 삽입해도 컬럼에 맞게 알아서 들어감.\n",
    "- 다른 DB에서 사용하는 데이터유형 이름 그대로 사용해도 무방\n",
    "\n",
    "#### 1.3 DBMS 관리 툴\n",
    "- [SQLite Expert](http://www.sqliteexpert.com/download.html)\n",
    "- Personal version은 freeware 이므로 사용할 수 있음"
   ]
  },
  {
   "cell_type": "markdown",
   "metadata": {},
   "source": [
    "## 2. 파이썬에서 사용하는 방법"
   ]
  },
  {
   "cell_type": "code",
   "execution_count": 4,
   "metadata": {},
   "outputs": [],
   "source": [
    "import sqlite3"
   ]
  },
  {
   "cell_type": "markdown",
   "metadata": {},
   "source": [
    "- **데이터베이스 접속**"
   ]
  },
  {
   "cell_type": "code",
   "execution_count": 5,
   "metadata": {},
   "outputs": [],
   "source": [
    "conn = sqlite3.connect('./test.db') \n",
    "'''\n",
    "conn = sqlite3.connect(':memory:')    # 메모리 DB 접속(일회성)\n",
    "'''"
   ]
  },
  {
   "cell_type": "markdown",
   "metadata": {},
   "source": [
    "- **테이블 생성**"
   ]
  },
  {
   "cell_type": "code",
   "execution_count": 25,
   "metadata": {},
   "outputs": [
    {
     "data": {
      "text/plain": [
       "<sqlite3.Cursor at 0x90a1420>"
      ]
     },
     "execution_count": 25,
     "metadata": {},
     "output_type": "execute_result"
    }
   ],
   "source": [
    "cur = conn.cursor()\n",
    "cur.execute('CREATE TABLE IF NOT EXISTS Eagles \\\n",
    "    (back_no INT NOT NULL, \\\n",
    "     name TEXT, \\\n",
    "     position TEXT, \\\n",
    "     hands TEXT, \\\n",
    "     highschool TEXT, \\\n",
    "     height INT, \\\n",
    "     PRIMARY KEY(back_no));')\n"
   ]
  },
  {
   "cell_type": "markdown",
   "metadata": {},
   "source": [
    "- **데이터 삽입(Insert)**"
   ]
  },
  {
   "cell_type": "code",
   "execution_count": 26,
   "metadata": {},
   "outputs": [
    {
     "data": {
      "text/plain": [
       "<sqlite3.Cursor at 0x90a1570>"
      ]
     },
     "execution_count": 26,
     "metadata": {},
     "output_type": "execute_result"
    }
   ],
   "source": [
    "cur = conn.cursor()\n",
    "cur.execute(\"INSERT INTO Eagles VALUES \\\n",
    "    (1, '하주석', '내야수', '우투좌타', '신일고', 184), \\\n",
    "    (28, '양성우', '외야수', '우투좌타', '충암고', 177);\")"
   ]
  },
  {
   "cell_type": "markdown",
   "metadata": {},
   "source": [
    "- **변경사항 저장**"
   ]
  },
  {
   "cell_type": "code",
   "execution_count": 27,
   "metadata": {},
   "outputs": [],
   "source": [
    "conn.commit()"
   ]
  },
  {
   "cell_type": "markdown",
   "metadata": {},
   "source": [
    "- **파일에서 읽어서 데이터베이스에 쓰기**"
   ]
  },
  {
   "cell_type": "code",
   "execution_count": 24,
   "metadata": {},
   "outputs": [
    {
     "data": {
      "text/html": [
       "<div>\n",
       "<style scoped>\n",
       "    .dataframe tbody tr th:only-of-type {\n",
       "        vertical-align: middle;\n",
       "    }\n",
       "\n",
       "    .dataframe tbody tr th {\n",
       "        vertical-align: top;\n",
       "    }\n",
       "\n",
       "    .dataframe thead th {\n",
       "        text-align: right;\n",
       "    }\n",
       "</style>\n",
       "<table border=\"1\" class=\"dataframe\">\n",
       "  <thead>\n",
       "    <tr style=\"text-align: right;\">\n",
       "      <th></th>\n",
       "      <th>back_no</th>\n",
       "      <th>name</th>\n",
       "      <th>position</th>\n",
       "      <th>hands</th>\n",
       "      <th>highschool</th>\n",
       "      <th>height</th>\n",
       "    </tr>\n",
       "  </thead>\n",
       "  <tbody>\n",
       "    <tr>\n",
       "      <th>0</th>\n",
       "      <td>17</td>\n",
       "      <td>김범수</td>\n",
       "      <td>투수</td>\n",
       "      <td>좌투좌타</td>\n",
       "      <td>천안북일고</td>\n",
       "      <td>181</td>\n",
       "    </tr>\n",
       "    <tr>\n",
       "      <th>1</th>\n",
       "      <td>38</td>\n",
       "      <td>안영명</td>\n",
       "      <td>투수</td>\n",
       "      <td>우투우타</td>\n",
       "      <td>천안북일고</td>\n",
       "      <td>183</td>\n",
       "    </tr>\n",
       "    <tr>\n",
       "      <th>2</th>\n",
       "      <td>36</td>\n",
       "      <td>장민재</td>\n",
       "      <td>투수</td>\n",
       "      <td>우투우타</td>\n",
       "      <td>광주제일고</td>\n",
       "      <td>184</td>\n",
       "    </tr>\n",
       "    <tr>\n",
       "      <th>3</th>\n",
       "      <td>13</td>\n",
       "      <td>최재훈</td>\n",
       "      <td>포수</td>\n",
       "      <td>우투우타</td>\n",
       "      <td>덕수고</td>\n",
       "      <td>178</td>\n",
       "    </tr>\n",
       "    <tr>\n",
       "      <th>4</th>\n",
       "      <td>52</td>\n",
       "      <td>김태균</td>\n",
       "      <td>내야수</td>\n",
       "      <td>우투우타</td>\n",
       "      <td>천안북일고</td>\n",
       "      <td>185</td>\n",
       "    </tr>\n",
       "    <tr>\n",
       "      <th>5</th>\n",
       "      <td>7</td>\n",
       "      <td>송광민</td>\n",
       "      <td>내야수</td>\n",
       "      <td>우투우타</td>\n",
       "      <td>공주고</td>\n",
       "      <td>184</td>\n",
       "    </tr>\n",
       "    <tr>\n",
       "      <th>6</th>\n",
       "      <td>50</td>\n",
       "      <td>이성열</td>\n",
       "      <td>내야수</td>\n",
       "      <td>우투좌타</td>\n",
       "      <td>순천효천고</td>\n",
       "      <td>185</td>\n",
       "    </tr>\n",
       "    <tr>\n",
       "      <th>7</th>\n",
       "      <td>43</td>\n",
       "      <td>정은원</td>\n",
       "      <td>내야수</td>\n",
       "      <td>우투좌타</td>\n",
       "      <td>인천고</td>\n",
       "      <td>177</td>\n",
       "    </tr>\n",
       "    <tr>\n",
       "      <th>8</th>\n",
       "      <td>8</td>\n",
       "      <td>정근우</td>\n",
       "      <td>외야수</td>\n",
       "      <td>우투우타</td>\n",
       "      <td>부산고</td>\n",
       "      <td>172</td>\n",
       "    </tr>\n",
       "    <tr>\n",
       "      <th>9</th>\n",
       "      <td>25</td>\n",
       "      <td>최진행</td>\n",
       "      <td>외야수</td>\n",
       "      <td>우투우타</td>\n",
       "      <td>덕수정보고</td>\n",
       "      <td>188</td>\n",
       "    </tr>\n",
       "  </tbody>\n",
       "</table>\n",
       "</div>"
      ],
      "text/plain": [
       "   back_no name position hands highschool  height\n",
       "0       17  김범수       투수  좌투좌타      천안북일고     181\n",
       "1       38  안영명       투수  우투우타      천안북일고     183\n",
       "2       36  장민재       투수  우투우타      광주제일고     184\n",
       "3       13  최재훈       포수  우투우타        덕수고     178\n",
       "4       52  김태균      내야수  우투우타      천안북일고     185\n",
       "5        7  송광민      내야수  우투우타        공주고     184\n",
       "6       50  이성열      내야수  우투좌타      순천효천고     185\n",
       "7       43  정은원      내야수  우투좌타        인천고     177\n",
       "8        8  정근우      외야수  우투우타        부산고     172\n",
       "9       25  최진행      외야수  우투우타      덕수정보고     188"
      ]
     },
     "execution_count": 24,
     "metadata": {},
     "output_type": "execute_result"
    }
   ],
   "source": [
    "import pandas as pd\n",
    "players = pd.read_csv('./players.csv', encoding='EUC-KR')\n",
    "players"
   ]
  },
  {
   "cell_type": "code",
   "execution_count": 28,
   "metadata": {},
   "outputs": [],
   "source": [
    "cur = conn.cursor()\n",
    "sql = 'INSERT INTO Eagles VALUES (?, ?, ?, ?, ?, ?);'\n",
    "for i in range(10):\n",
    "    cur.execute(sql, (int(players.iloc[i,0]), \n",
    "                      players.iloc[i,1], players.iloc[i,2], \n",
    "                      players.iloc[i,3], players.iloc[i,4], \n",
    "                      int(players.iloc[i,5])))\n",
    "conn.commit()"
   ]
  },
  {
   "cell_type": "code",
   "execution_count": 29,
   "metadata": {},
   "outputs": [],
   "source": [
    "conn.close()"
   ]
  },
  {
   "cell_type": "code",
   "execution_count": null,
   "metadata": {},
   "outputs": [],
   "source": []
  }
 ],
 "metadata": {
  "kernelspec": {
   "display_name": "Python 3",
   "language": "python",
   "name": "python3"
  },
  "language_info": {
   "codemirror_mode": {
    "name": "ipython",
    "version": 3
   },
   "file_extension": ".py",
   "mimetype": "text/x-python",
   "name": "python",
   "nbconvert_exporter": "python",
   "pygments_lexer": "ipython3",
   "version": "3.7.3"
  }
 },
 "nbformat": 4,
 "nbformat_minor": 2
}
